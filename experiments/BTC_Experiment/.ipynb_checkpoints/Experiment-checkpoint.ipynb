{
 "cells": [
  {
   "cell_type": "code",
   "execution_count": 63,
   "metadata": {
    "collapsed": true
   },
   "outputs": [],
   "source": [
    "import cPickle as pickle\n",
    "import pandas as pd\n",
    "import matplotlib\n",
    "import numpy as np\n",
    "matplotlib.rcParams.update({'font.size': 17.5})\n",
    "\n",
    "import matplotlib.pyplot as plt\n",
    "%matplotlib inline"
   ]
  },
  {
   "cell_type": "code",
   "execution_count": 64,
   "metadata": {
    "collapsed": true
   },
   "outputs": [],
   "source": [
    "with open('FLAME-db-result', \"rb\") as f:\n",
    "     data = pickle.load(f)"
   ]
  },
  {
   "cell_type": "code",
   "execution_count": 65,
   "metadata": {},
   "outputs": [],
   "source": [
    "def weight_array(ar, weights):\n",
    "     zipped = zip(ar, weights)\n",
    "     weighted = []\n",
    "     for i in zipped:\n",
    "         for j in range(i[1]):\n",
    "             weighted.append(i[0])\n",
    "     return weighted"
   ]
  },
  {
   "cell_type": "code",
   "execution_count": 66,
   "metadata": {},
   "outputs": [
    {
     "name": "stdout",
     "output_type": "stream",
     "text": [
      "<class 'pandas.core.frame.DataFrame'>\n"
     ]
    },
    {
     "ename": "TypeError",
     "evalue": "cannot convert the series to <type 'float'>",
     "output_type": "error",
     "traceback": [
      "\u001b[0;31m---------------------------------------------------------------------------\u001b[0m",
      "\u001b[0;31mTypeError\u001b[0m                                 Traceback (most recent call last)",
      "\u001b[0;32m<ipython-input-66-35dc4233deb7>\u001b[0m in \u001b[0;36m<module>\u001b[0;34m()\u001b[0m\n\u001b[1;32m     17\u001b[0m \u001b[0;34m\u001b[0m\u001b[0m\n\u001b[1;32m     18\u001b[0m \u001b[0;32mprint\u001b[0m\u001b[0;34m(\u001b[0m\u001b[0mtype\u001b[0m\u001b[0;34m(\u001b[0m\u001b[0mdf_all\u001b[0m\u001b[0;34m[\u001b[0m\u001b[0;34m[\u001b[0m\u001b[0;34m'mean'\u001b[0m\u001b[0;34m,\u001b[0m\u001b[0;34m'weight'\u001b[0m\u001b[0;34m]\u001b[0m\u001b[0;34m]\u001b[0m\u001b[0;34m)\u001b[0m\u001b[0;34m)\u001b[0m\u001b[0;34m\u001b[0m\u001b[0m\n\u001b[0;32m---> 19\u001b[0;31m \u001b[0;32mprint\u001b[0m\u001b[0;34m(\u001b[0m\u001b[0mwquantile\u001b[0m\u001b[0;34m(\u001b[0m\u001b[0mdf_all\u001b[0m\u001b[0;34m[\u001b[0m\u001b[0;34m[\u001b[0m\u001b[0;34m'mean'\u001b[0m\u001b[0;34m,\u001b[0m\u001b[0;34m'weight'\u001b[0m\u001b[0;34m]\u001b[0m\u001b[0;34m]\u001b[0m\u001b[0;34m,\u001b[0m\u001b[0;36m87\u001b[0m\u001b[0;34m)\u001b[0m\u001b[0;34m)\u001b[0m\u001b[0;34m\u001b[0m\u001b[0m\n\u001b[0m",
      "\u001b[0;32m<ipython-input-65-d8a4769541a6>\u001b[0m in \u001b[0;36mwquantile\u001b[0;34m(x, q)\u001b[0m\n\u001b[1;32m      6\u001b[0m     \u001b[0mi\u001b[0m \u001b[0;34m=\u001b[0m \u001b[0;36m0\u001b[0m\u001b[0;34m\u001b[0m\u001b[0m\n\u001b[1;32m      7\u001b[0m     \u001b[0;32mwhile\u001b[0m \u001b[0mpop\u001b[0m \u001b[0;34m<\u001b[0m \u001b[0mp\u001b[0m\u001b[0;34m:\u001b[0m\u001b[0;34m\u001b[0m\u001b[0m\n\u001b[0;32m----> 8\u001b[0;31m         \u001b[0mpop\u001b[0m \u001b[0;34m=\u001b[0m \u001b[0mpop\u001b[0m \u001b[0;34m+\u001b[0m \u001b[0mfloat\u001b[0m\u001b[0;34m(\u001b[0m\u001b[0mxsort\u001b[0m\u001b[0;34m[\u001b[0m\u001b[0mxsort\u001b[0m\u001b[0;34m.\u001b[0m\u001b[0mcolumns\u001b[0m\u001b[0;34m[\u001b[0m\u001b[0;36m1\u001b[0m\u001b[0;34m]\u001b[0m\u001b[0;34m]\u001b[0m\u001b[0;34m[\u001b[0m\u001b[0mxsort\u001b[0m\u001b[0;34m[\u001b[0m\u001b[0;34m'index'\u001b[0m\u001b[0;34m]\u001b[0m\u001b[0;34m==\u001b[0m\u001b[0mi\u001b[0m\u001b[0;34m+\u001b[0m\u001b[0;36m1\u001b[0m\u001b[0;34m]\u001b[0m\u001b[0;34m)\u001b[0m\u001b[0;34m\u001b[0m\u001b[0m\n\u001b[0m\u001b[1;32m      9\u001b[0m         \u001b[0mi\u001b[0m \u001b[0;34m=\u001b[0m \u001b[0mi\u001b[0m \u001b[0;34m+\u001b[0m \u001b[0;36m1\u001b[0m\u001b[0;34m\u001b[0m\u001b[0m\n\u001b[1;32m     10\u001b[0m     \u001b[0;32mreturn\u001b[0m \u001b[0mxsort\u001b[0m\u001b[0;34m[\u001b[0m\u001b[0mxsort\u001b[0m\u001b[0;34m.\u001b[0m\u001b[0mcolumns\u001b[0m\u001b[0;34m[\u001b[0m\u001b[0;36m0\u001b[0m\u001b[0;34m]\u001b[0m\u001b[0;34m]\u001b[0m\u001b[0;34m[\u001b[0m\u001b[0mxsort\u001b[0m\u001b[0;34m[\u001b[0m\u001b[0;34m'index'\u001b[0m\u001b[0;34m]\u001b[0m\u001b[0;34m==\u001b[0m\u001b[0mi\u001b[0m\u001b[0;34m]\u001b[0m\u001b[0;34m\u001b[0m\u001b[0m\n",
      "\u001b[0;32m/Users/zihui/anaconda/envs/py27/lib/python2.7/site-packages/pandas/core/series.pyc\u001b[0m in \u001b[0;36mwrapper\u001b[0;34m(self)\u001b[0m\n\u001b[1;32m     95\u001b[0m             \u001b[0;32mreturn\u001b[0m \u001b[0mconverter\u001b[0m\u001b[0;34m(\u001b[0m\u001b[0mself\u001b[0m\u001b[0;34m.\u001b[0m\u001b[0miloc\u001b[0m\u001b[0;34m[\u001b[0m\u001b[0;36m0\u001b[0m\u001b[0;34m]\u001b[0m\u001b[0;34m)\u001b[0m\u001b[0;34m\u001b[0m\u001b[0m\n\u001b[1;32m     96\u001b[0m         raise TypeError(\"cannot convert the series to \"\n\u001b[0;32m---> 97\u001b[0;31m                         \"{0}\".format(str(converter)))\n\u001b[0m\u001b[1;32m     98\u001b[0m \u001b[0;34m\u001b[0m\u001b[0m\n\u001b[1;32m     99\u001b[0m     \u001b[0;32mreturn\u001b[0m \u001b[0mwrapper\u001b[0m\u001b[0;34m\u001b[0m\u001b[0m\n",
      "\u001b[0;31mTypeError\u001b[0m: cannot convert the series to <type 'float'>"
     ]
    }
   ],
   "source": [
    "match_list = data[1]\n",
    "scores = data[2]\n",
    "\n",
    "df_all = pd.DataFrame(columns=[['effect_c','effect_t','count_c','count_t']])\n",
    "for row in match_list:\n",
    "     if row is None or row.empty:\n",
    "          continue\n",
    "     df = pd.DataFrame(row,dtype='float')  \n",
    "     if '0' not in df.columns:\n",
    "            continue\n",
    "     df = df[df['0'] == 1]   \n",
    "     if df is not None and not df.empty:\n",
    "         df = df[['effect_c','effect_t','count_c','count_t']]\n",
    "         df['mean'] = df['effect_t'] - df['effect_c']\n",
    "         df['weight'] = df['count_c'] + df['count_t'] \n",
    "         df_all = pd.concat([df_all,df],axis = 0)\n",
    " \n",
    "ar = np.array(df_all['mean'])\n",
    "weights = np.array(df_all['weight'])\n",
    "np.percentile(weight_array(ar, weights), 25)"
   ]
  },
  {
   "cell_type": "code",
   "execution_count": null,
   "metadata": {},
   "outputs": [],
   "source": [
    "# plot percent of units matched, figure 4\n",
    "\n",
    "matplotlib.rcParams.update({'font.size': 17.5})\n",
    "\n",
    "#res = pickle.load(open('__thePickleFile__', 'rb'))[1]\n",
    "    \n",
    "y = no_match\n",
    "x = no_remain\n",
    "\n",
    "plt.figure(figsize=(10,10))   \n",
    "\n",
    "plt.plot(x,y, alpha = 0.9 , color = 'blue')\n",
    "\n",
    "\n",
    "plt.gca().invert_xaxis()\n",
    "\n",
    "#plt.xticks(np.arange(383, 4, 40))\n",
    "plt.ylabel('% of units matched')\n",
    "plt.xlabel('number of covariates remaining')\n",
    "\n",
    "plt.ylim([0.7,1])\n",
    "\n",
    "plt.show()"
   ]
  },
  {
   "cell_type": "code",
   "execution_count": null,
   "metadata": {},
   "outputs": [],
   "source": [
    "y = scores\n",
    "x = no_remain[1:]\n",
    "\n",
    "plt.figure(figsize=(5,5))   \n",
    "\n",
    "plt.plot(x,y, alpha = 0.9 , color = 'blue')\n",
    "\n",
    "#plt.xticks(x)    \n",
    "plt.gca().invert_xaxis()\n",
    "\n",
    "plt.ylabel('matching scores')\n",
    "plt.xlabel('number of covariates remaining')\n",
    "\n",
    "#plt.ylim([0,1.2])\n",
    "\n",
    "plt.show()"
   ]
  },
  {
   "cell_type": "code",
   "execution_count": null,
   "metadata": {},
   "outputs": [],
   "source": [
    "plt.figure(figsize=(10,10))   \n",
    "\n",
    "for i in range(len(list_size)):\n",
    "    plt.scatter([i]*len(list_effect[i]), list_effect[i], s = list_size[i], alpha = 0.6 , color = 'blue')\n",
    "\n",
    "plt.xticks(range(len(list_size)), [str(10-i)  for i in range(10) ] )    \n",
    "\n",
    "plt.ylabel('estimated treatment effect')\n",
    "plt.xlabel('number of covariates remaining')\n",
    "\n",
    "plt.ylim([-0.4,0.6])\n",
    "\n",
    "plt.show()\n",
    "\n",
    "plt.savefig('tradeoff01.png', dpi = 300)"
   ]
  },
  {
   "cell_type": "code",
   "execution_count": null,
   "metadata": {
    "collapsed": true
   },
   "outputs": [],
   "source": [
    "  "
   ]
  },
  {
   "cell_type": "code",
   "execution_count": null,
   "metadata": {},
   "outputs": [],
   "source": [
    "y = []\n",
    "for i in range(len(list_effect)):\n",
    "    effect = list_effect[i]\n",
    "    size = list_size[i]\n",
    "    a = 0\n",
    "    b = 0\n",
    "    for j in range(len(effect)):\n",
    "        a += float(effect[j] * size[j])\n",
    "        b += float(size[j])\n",
    "    if b != 0:\n",
    "        y.append(a/b)\n",
    "    else:\n",
    "        y.append(0)\n",
    "\n",
    "print(ATE)\n",
    "print(y)\n",
    "x = no_remain\n",
    "y = [abs(elem - ATE) for elem in y]\n",
    "plt.figure(figsize=(5,5)) \n",
    "plt.plot(x,y, alpha = 0.9 , color = 'blue')  \n",
    "plt.gca().invert_xaxis()"
   ]
  },
  {
   "cell_type": "code",
   "execution_count": null,
   "metadata": {},
   "outputs": [],
   "source": [
    "#calculate CATE\n",
    "df_all_0 = pd.DataFrame(columns=[['1','effect_c','effect_t','count_c','count_t']])\n",
    "df_all_1 = pd.DataFrame(columns=[['1','effect_c','effect_t','count_c','count_t']])\n",
    "for row in match_list:\n",
    "     if row is None or row.empty:\n",
    "          continue \n",
    "     if '1' not in list(row.columns.values):\n",
    "        continue;\n",
    "     df = pd.DataFrame(row)[['1','effect_c','effect_t','count_c','count_t']]\n",
    "     df_0 = df[df['1'] == 0]\n",
    "     df_1 = df[df['1'] == 1]\n",
    "     df_0['mean'] = df_0['effect_t'] - df_0['effect_c']\n",
    "     df_0['weight'] = df_0['count_c'] + df_0['count_t'] \n",
    "     df_1['mean'] = df_1['effect_t'] - df_1['effect_c']\n",
    "     df_1['weight'] = df_1['count_c'] + df_1['count_t'] \n",
    "     df_all_0 = pd.concat([df_all_0,df_0],axis = 0)\n",
    "     df_all_1 = pd.concat([df_all_1,df_1],axis = 0)\n",
    "        \n",
    "if not df_all.empty:\n",
    "     df_all_0['weighted_mean'] = df_all_0['mean'] * df_all_0['weight']\n",
    "     sum_all_0 = df_all_0.sum(axis = 0)\n",
    "     ATE_0 = sum_all_0['weighted_mean']/sum_all_0['weight']\n",
    "     print(\"ATE for 0: \",ATE_0)\n",
    "     df_all_1['weighted_mean'] = df_all_1['mean'] * df_all_1['weight']\n",
    "     sum_all_1 = df_all_1.sum(axis = 0)\n",
    "     ATE_1 = sum_all_1['weighted_mean']/sum_all_1['weight']\n",
    "     print(\"ATE for 1: \",ATE_1)\n",
    "else:\n",
    "     print(\"result is empty\")"
   ]
  },
  {
   "cell_type": "code",
   "execution_count": null,
   "metadata": {
    "collapsed": true
   },
   "outputs": [],
   "source": []
  },
  {
   "cell_type": "code",
   "execution_count": null,
   "metadata": {
    "collapsed": true
   },
   "outputs": [],
   "source": []
  }
 ],
 "metadata": {
  "kernelspec": {
   "display_name": "Python 2",
   "language": "python",
   "name": "python2"
  },
  "language_info": {
   "codemirror_mode": {
    "name": "ipython",
    "version": 2
   },
   "file_extension": ".py",
   "mimetype": "text/x-python",
   "name": "python",
   "nbconvert_exporter": "python",
   "pygments_lexer": "ipython2",
   "version": "2.7.14"
  }
 },
 "nbformat": 4,
 "nbformat_minor": 2
}
