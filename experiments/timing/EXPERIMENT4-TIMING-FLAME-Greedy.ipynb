{
 "cells": [
  {
   "cell_type": "code",
   "execution_count": 1,
   "metadata": {},
   "outputs": [],
   "source": [
    "import numpy as np\n",
    "import pandas as pd\n",
    "import pickle\n",
    "import time\n",
    "import itertools\n",
    "\n",
    "import matplotlib\n",
    "matplotlib.rcParams.update({'font.size': 17.5})\n",
    "\n",
    "import matplotlib.pyplot as plt\n",
    "%matplotlib inline\n",
    "\n",
    "matplotlib.rc('axes.formatter', useoffset=False)\n",
    "\n",
    "\n",
    "import sys\n",
    "import os.path\n",
    "sys.path.append( os.path.abspath(os.path.join( os.path.dirname('..') , os.path.pardir )) )"
   ]
  },
  {
   "cell_type": "code",
   "execution_count": 2,
   "metadata": {},
   "outputs": [
    {
     "name": "stdout",
     "output_type": "stream",
     "text": [
      "reached threshold\n"
     ]
    }
   ],
   "source": [
    "from collapsingFLAMEbit import *\n",
    "from genericFLAMEbit import *"
   ]
  },
  {
   "cell_type": "code",
   "execution_count": 3,
   "metadata": {},
   "outputs": [],
   "source": [
    "def construct_sec_order(arr):\n",
    "    ''' an intermediate data generation function used \n",
    "        for generating second order information '''\n",
    "    \n",
    "    second_order_feature = []\n",
    "    num_cov_sec = len(arr[0])\n",
    "    for a in arr:\n",
    "        tmp = []\n",
    "        for i in range(num_cov_sec):\n",
    "            for j in range(i+1, num_cov_sec):\n",
    "                tmp.append( a[i] * a[j] )\n",
    "        second_order_feature.append(tmp)\n",
    "        \n",
    "    return np.array(second_order_feature)\n",
    "\n"
   ]
  },
  {
   "cell_type": "code",
   "execution_count": 4,
   "metadata": {},
   "outputs": [],
   "source": [
    "def data_generation_dense_2(num_control, num_treated, num_cov_dense, \n",
    "                            num_covs_unimportant, control_m = 0.1,\n",
    "                            treated_m = 0.9):\n",
    "    \n",
    "    ''' the data generating function that we will use; \n",
    "        includes second order information '''\n",
    "    \n",
    "\n",
    "    # generate data for control group \n",
    "    xc = np.random.binomial(1, 0.5, size=(num_control, num_cov_dense)) #bernouilli\n",
    "    \n",
    "    # generate data for treated group \n",
    "    xt = np.random.binomial(1, 0.5, size=(num_treated, num_cov_dense))   #bernouilli\n",
    "     \n",
    "    \n",
    "    errors1 = np.random.normal(0, 0.1, size=num_control)    # some noise\n",
    "    \n",
    "    errors2 = np.random.normal(0, 0.1, size=num_treated)    # some noise\n",
    "    \n",
    "    dense_bs_sign = np.random.choice([-1,1], num_cov_dense) \n",
    "    \n",
    "    dense_bs = [ np.random.normal(s * 10, 1) for s in dense_bs_sign ]   #alpha in the paper\n",
    "\n",
    "    # y for control group \n",
    "    yc = np.dot(xc, np.array(dense_bs)) #+ errors1     \n",
    "       \n",
    "    # y for treated group \n",
    "    treatment_eff_coef = np.random.normal( 1.5, 0.15, size=num_cov_dense) #beta\n",
    "    treatment_effect = np.dot(xt, treatment_eff_coef) \n",
    "    \n",
    "    second = construct_sec_order(xt[:,:(num_covs_unimportant -1)])\n",
    "    treatment_eff_sec = np.sum(second, axis=1)\n",
    "    \n",
    "    yt = np.dot(xt,np.array(dense_bs))+treatment_effect+treatment_eff_sec \n",
    "                                      # + errors2    \n",
    "\n",
    "    # generate unimportant covariates for control group\n",
    "    xc2 = np.random.binomial(1, control_m, size=(num_control,\n",
    "                                                 num_covs_unimportant))  \n",
    "    \n",
    "    # generate unimportant covariates for treated group\n",
    "    xt2 = np.random.binomial(1, treated_m, size=(num_treated,\n",
    "                                                 num_covs_unimportant))   \n",
    "        \n",
    "    df1 = pd.DataFrame(np.hstack([xc, xc2]), \n",
    "                       columns=range(num_cov_dense + num_covs_unimportant))\n",
    "    df1['outcome'] = yc\n",
    "    df1['treated'] = 0\n",
    "\n",
    "    df2 = pd.DataFrame(np.hstack([xt, xt2]), \n",
    "                       columns=range(num_cov_dense + num_covs_unimportant)) \n",
    "    df2['outcome'] = yt\n",
    "    df2['treated'] = 1\n",
    "\n",
    "    df = pd.concat([df1,df2])\n",
    "    df['matched'] = 0\n",
    "  \n",
    "    return df, dense_bs, treatment_eff_coef\n",
    "\n",
    "\n"
   ]
  },
  {
   "cell_type": "code",
   "execution_count": 5,
   "metadata": {},
   "outputs": [],
   "source": [
    "def compare_rows(treatment,control,covs):\n",
    "    res = []\n",
    "    for i in covs :\n",
    "        if treatment[i] == control[i]:\n",
    "            res.append(1)\n",
    "        else:\n",
    "            res.append(0)      \n",
    "    return res   \n"
   ]
  },
  {
   "cell_type": "code",
   "execution_count": 12,
   "metadata": {},
   "outputs": [],
   "source": [
    "\n",
    "def run_greedy(df,covs, w):\n",
    "        \n",
    "    \n",
    "    treatments = df[df['treated']==1]\n",
    "    controls = df[df['treated']==0]\n",
    "    \n",
    "    res = pd.DataFrame()\n",
    "    cates = []\n",
    "    #run over all treatments\n",
    "    for i in range(len(treatments)):\n",
    "        \n",
    "        #get the treatment unit i\n",
    "        cur_treatment = treatments.iloc[i]\n",
    "        \n",
    "        w_t = []\n",
    "        for j in range(len(controls)):\n",
    "            \n",
    "            #get current control unit\n",
    "            cur_control = controls.iloc[j]\n",
    "            \n",
    "            # find the v_tc\n",
    "            v_tc = np.array(compare_rows(cur_treatment, cur_control, covs)  )\n",
    "            \n",
    "            #print v_tc\n",
    "            w_tc = np.dot(v_tc,w)\n",
    "            w_t.append((cur_control,w_tc))\n",
    "            \n",
    "        #now get the controls with the largest w_tc\n",
    "        controls_c = max(w_t, key=itemgetter(1))\n",
    "        best_control = controls_c[0]\n",
    "        best_control = pd.DataFrame(data = best_control.values)\n",
    "        best_control = best_control.transpose()\n",
    "        best_control.columns = df.columns\n",
    "        \n",
    "        cur_treatment = pd.DataFrame(data = cur_treatment.values)\n",
    "        cur_treatment = cur_treatment.transpose()\n",
    "        cur_treatment.columns = df.columns\n",
    "        \n",
    "        group_t = pd.concat([cur_treatment,best_control])\n",
    "        \n",
    "        get_cate = group_t['outcome'].mean()\n",
    "        cates.append(get_cate)\n",
    "        res = pd.concat([res,group_t])\n",
    "        \n",
    "    return res, cates"
   ]
  },
  {
   "cell_type": "code",
   "execution_count": 7,
   "metadata": {},
   "outputs": [],
   "source": [
    "#------- EXPERIMENT 1: N=3K, P=5 -----------------------------#"
   ]
  },
  {
   "cell_type": "code",
   "execution_count": 8,
   "metadata": {},
   "outputs": [],
   "source": [
    "# data generation, set exponential to be True or False for exponential decay and power-law decay respectively\n",
    "\n",
    "d = data_generation_dense_2(1500, 1500, 5,0, control_m = 0.1, treated_m = 0.9)\n",
    "df = d[0] \n",
    "holdout,_,_ = data_generation_dense_2(1500, 1500, 5,0, control_m = 0.1, treated_m = 0.9)"
   ]
  },
  {
   "cell_type": "code",
   "execution_count": 9,
   "metadata": {},
   "outputs": [
    {
     "name": "stdout",
     "output_type": "stream",
     "text": [
      "[0, 1, 2, 3, 4]\n",
      "no more matches\n"
     ]
    }
   ],
   "source": [
    "#run generic flame til end\n",
    "s = time.time()\n",
    "res_gen = run_bit(df, holdout, range(5), [2]*5, threshold = -10, tradeoff_param = 0.1)\n",
    "t_gen_p1 = time.time() - s"
   ]
  },
  {
   "cell_type": "code",
   "execution_count": 10,
   "metadata": {},
   "outputs": [
    {
     "name": "stdout",
     "output_type": "stream",
     "text": [
      "no more matches\n"
     ]
    }
   ],
   "source": [
    "# run collapsing flame til end\n",
    "s = time.time()\n",
    "res = run_mpbit(df, holdout, range(5), [2]*5, threshold =-10, tradeoff_param = 0.001)\n",
    "t_col_p1 = time.time() - s"
   ]
  },
  {
   "cell_type": "code",
   "execution_count": 11,
   "metadata": {},
   "outputs": [],
   "source": [
    "s = time.time()\n",
    "res_greedy = run_greedy(df, range(5), d[1])\n",
    "t_greedy_p1 = time.time() - s"
   ]
  },
  {
   "cell_type": "code",
   "execution_count": null,
   "metadata": {},
   "outputs": [],
   "source": [
    "#------- EXPERIMENT 2: N=3K, P=8 -----------------------------#\n"
   ]
  },
  {
   "cell_type": "code",
   "execution_count": 13,
   "metadata": {},
   "outputs": [],
   "source": [
    "d1 = data_generation_dense_2(1500, 1500,8,0, control_m = 0.1, treated_m = 0.9)\n",
    "df1 = d1[0] \n",
    "holdout1,_,_ = data_generation_dense_2(1500, 1500,8,0, control_m = 0.1, treated_m = 0.9)"
   ]
  },
  {
   "cell_type": "code",
   "execution_count": 15,
   "metadata": {},
   "outputs": [
    {
     "name": "stdout",
     "output_type": "stream",
     "text": [
      "no more matches\n"
     ]
    }
   ],
   "source": [
    "s = time.time()\n",
    "res1 = run_mpbit(df1, holdout1, range(8), [2]*8, threshold =-10, tradeoff_param = 0.001)\n",
    "t_col_p2 = time.time() - s"
   ]
  },
  {
   "cell_type": "code",
   "execution_count": 16,
   "metadata": {},
   "outputs": [
    {
     "name": "stdout",
     "output_type": "stream",
     "text": [
      "[0, 1, 2, 3, 4, 5, 6, 7]\n",
      "no more matches\n"
     ]
    }
   ],
   "source": [
    "s = time.time()\n",
    "res_gen1 = run_bit(df1, holdout1, range(8), [2]*8, threshold =-10, tradeoff_param = 0.001)\n",
    "t_gen_p2 = time.time() - s"
   ]
  },
  {
   "cell_type": "code",
   "execution_count": 17,
   "metadata": {},
   "outputs": [],
   "source": [
    "s = time.time()\n",
    "res_greedy1 = run_greedy(df1, range(8), d1[1])\n",
    "t_greedy_p2 = time.time() - s"
   ]
  },
  {
   "cell_type": "code",
   "execution_count": 18,
   "metadata": {},
   "outputs": [],
   "source": [
    "#------- EXPERIMENT 3: N=3K, P=10 -----------------------------#\n"
   ]
  },
  {
   "cell_type": "code",
   "execution_count": 19,
   "metadata": {},
   "outputs": [],
   "source": [
    "d2 = data_generation_dense_2(1500, 1500, 10,0, control_m = 0.1, treated_m = 0.9)\n",
    "df2 = d2[0] \n",
    "holdout2,_,_ = data_generation_dense_2(1500, 1500, 10,0, control_m = 0.1, treated_m = 0.9)"
   ]
  },
  {
   "cell_type": "code",
   "execution_count": 20,
   "metadata": {},
   "outputs": [],
   "source": [
    "s = time.time()\n",
    "res_greedy2 = run_greedy(df2, range(10), d2[1])\n",
    "t_greedy_p3 = time.time() - s\n"
   ]
  },
  {
   "cell_type": "code",
   "execution_count": 21,
   "metadata": {},
   "outputs": [
    {
     "name": "stdout",
     "output_type": "stream",
     "text": [
      "no more matches\n"
     ]
    }
   ],
   "source": [
    "s = time.time()\n",
    "res2 = run_mpbit(df2, holdout2, range(10), [2]*10, threshold =-10, tradeoff_param = 0.001)\n",
    "t_col_p3 = time.time() - s"
   ]
  },
  {
   "cell_type": "code",
   "execution_count": 22,
   "metadata": {},
   "outputs": [
    {
     "name": "stdout",
     "output_type": "stream",
     "text": [
      "[0, 1, 2, 3, 4, 5, 6, 7, 8, 9]\n",
      "[0, 1, 2, 3, 4, 5, 6, 7, 9]\n",
      "[0, 1, 3, 4, 5, 6, 7, 9]\n",
      "[0, 1, 3, 4, 6, 7, 9]\n",
      "[0, 1, 3, 4, 6, 7]\n",
      "[0, 1, 4, 6, 7]\n",
      "[0, 1, 6, 7]\n",
      "[0, 1, 6]\n",
      "[0, 6]\n"
     ]
    }
   ],
   "source": [
    "s = time.time()\n",
    "res_gen2 = run_bit(df2, holdout2, range(10), [2]*10, threshold =-10, tradeoff_param = 0.001)\n",
    "t_gen_p3 = time.time() - s"
   ]
  },
  {
   "cell_type": "code",
   "execution_count": 23,
   "metadata": {},
   "outputs": [],
   "source": [
    "#--- create dataframe with all values---#"
   ]
  },
  {
   "cell_type": "code",
   "execution_count": 25,
   "metadata": {},
   "outputs": [
    {
     "data": {
      "text/html": [
       "<div>\n",
       "<style scoped>\n",
       "    .dataframe tbody tr th:only-of-type {\n",
       "        vertical-align: middle;\n",
       "    }\n",
       "\n",
       "    .dataframe tbody tr th {\n",
       "        vertical-align: top;\n",
       "    }\n",
       "\n",
       "    .dataframe thead th {\n",
       "        text-align: right;\n",
       "    }\n",
       "</style>\n",
       "<table border=\"1\" class=\"dataframe\">\n",
       "  <thead>\n",
       "    <tr style=\"text-align: right;\">\n",
       "      <th></th>\n",
       "      <th>number of covariates</th>\n",
       "      <th>time</th>\n",
       "      <th>method</th>\n",
       "    </tr>\n",
       "  </thead>\n",
       "  <tbody>\n",
       "    <tr>\n",
       "      <th>0</th>\n",
       "      <td>5</td>\n",
       "      <td>0.09</td>\n",
       "      <td>Collapsing FLAME</td>\n",
       "    </tr>\n",
       "    <tr>\n",
       "      <th>1</th>\n",
       "      <td>8</td>\n",
       "      <td>0.26</td>\n",
       "      <td>Collapsing FLAME</td>\n",
       "    </tr>\n",
       "    <tr>\n",
       "      <th>2</th>\n",
       "      <td>10</td>\n",
       "      <td>417.28</td>\n",
       "      <td>Collapsing FLAME</td>\n",
       "    </tr>\n",
       "    <tr>\n",
       "      <th>0</th>\n",
       "      <td>5</td>\n",
       "      <td>0.10</td>\n",
       "      <td>Generic FLAME</td>\n",
       "    </tr>\n",
       "    <tr>\n",
       "      <th>1</th>\n",
       "      <td>8</td>\n",
       "      <td>0.24</td>\n",
       "      <td>Generic FLAME</td>\n",
       "    </tr>\n",
       "    <tr>\n",
       "      <th>2</th>\n",
       "      <td>10</td>\n",
       "      <td>4.51</td>\n",
       "      <td>Generic FLAME</td>\n",
       "    </tr>\n",
       "    <tr>\n",
       "      <th>0</th>\n",
       "      <td>5</td>\n",
       "      <td>1427.24</td>\n",
       "      <td>Greedy Approach</td>\n",
       "    </tr>\n",
       "    <tr>\n",
       "      <th>1</th>\n",
       "      <td>8</td>\n",
       "      <td>1732.94</td>\n",
       "      <td>Greedy Approach</td>\n",
       "    </tr>\n",
       "    <tr>\n",
       "      <th>2</th>\n",
       "      <td>10</td>\n",
       "      <td>1692.04</td>\n",
       "      <td>Greedy Approach</td>\n",
       "    </tr>\n",
       "  </tbody>\n",
       "</table>\n",
       "</div>"
      ],
      "text/plain": [
       "   number of covariates     time            method\n",
       "0                     5     0.09  Collapsing FLAME\n",
       "1                     8     0.26  Collapsing FLAME\n",
       "2                    10   417.28  Collapsing FLAME\n",
       "0                     5     0.10     Generic FLAME\n",
       "1                     8     0.24     Generic FLAME\n",
       "2                    10     4.51     Generic FLAME\n",
       "0                     5  1427.24   Greedy Approach\n",
       "1                     8  1732.94   Greedy Approach\n",
       "2                    10  1692.04   Greedy Approach"
      ]
     },
     "execution_count": 25,
     "metadata": {},
     "output_type": "execute_result"
    }
   ],
   "source": [
    "\n",
    "timescol = pd.DataFrame()\n",
    "timesgen = pd.DataFrame()\n",
    "timesgreedy = pd.DataFrame()\n",
    "\n",
    "timescol['number of covariates'] = [5,8,10]\n",
    "timescol['time'] = [t_col_p1,t_col_p2,t_col_p3]\n",
    "timescol['method'] = [\"Collapsing FLAME\"]*3\n",
    "\n",
    "timesgen['number of covariates'] = [5,8,10]\n",
    "timesgen['time'] = [t_gen_p1,t_gen_p2,t_gen_p3]\n",
    "timesgen['method'] = [\"Generic FLAME\"]*3\n",
    "\n",
    "timesgreedy['number of covariates'] = [5,8,10]\n",
    "timesgreedy['time'] = [t_greedy_p1,t_greedy_p2,t_greedy_p3]\n",
    "timesgreedy['method'] = [\"Greedy Approach\"]*3\n",
    "\n",
    "\n",
    "times = pd.concat([timescol, timesgen, timesgreedy])\n",
    "times = times.round(2)\n",
    "#times.to_csv('timings.csv')\n",
    "times"
   ]
  },
  {
   "cell_type": "code",
   "execution_count": 28,
   "metadata": {},
   "outputs": [
    {
     "data": {
      "text/plain": [
       "<matplotlib.axes._subplots.AxesSubplot at 0x1a1e672f10>"
      ]
     },
     "execution_count": 28,
     "metadata": {},
     "output_type": "execute_result"
    },
    {
     "data": {
      "image/png": "[encoded data removed]",
      "text/plain": [
       "<Figure size 432x288 with 1 Axes>"
      ]
     },
     "metadata": {},
     "output_type": "display_data"
    }
   ],
   "source": [
    "#---PLOT timing results -------#\n",
    "import seaborn as sns\n",
    "sns.pointplot(x=\"number of covariates\", y=\"time\",hue=\"method\", data = times, fit_reg=False)\n"
   ]
  },
  {
   "cell_type": "code",
   "execution_count": null,
   "metadata": {},
   "outputs": [],
   "source": []
  }
 ],
 "metadata": {
  "anaconda-cloud": {},
  "kernelspec": {
   "display_name": "Python [conda env:ipykernel_py2]",
   "language": "python",
   "name": "conda-env-ipykernel_py2-py"
  },
  "language_info": {
   "codemirror_mode": {
    "name": "ipython",
    "version": 2
   },
   "file_extension": ".py",
   "mimetype": "text/x-python",
   "name": "python",
   "nbconvert_exporter": "python",
   "pygments_lexer": "ipython2",
   "version": "2.7.15"
  }
 },
 "nbformat": 4,
 "nbformat_minor": 2
}
