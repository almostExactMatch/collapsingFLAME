{
 "cells": [
  {
   "cell_type": "code",
   "execution_count": 1,
   "metadata": {},
   "outputs": [],
   "source": [
    "import numpy as np\n",
    "import pandas as pd\n",
    "import pickle\n",
    "import time\n",
    "import itertools\n",
    "\n",
    "import matplotlib\n",
    "matplotlib.rcParams.update({'font.size': 17.5})\n",
    "\n",
    "import matplotlib.pyplot as plt\n",
    "%matplotlib inline\n",
    "\n",
    "matplotlib.rc('axes.formatter', useoffset=False)\n",
    "\n",
    "\n",
    "import sys\n",
    "import os.path\n",
    "sys.path.append( os.path.abspath(os.path.join( os.path.dirname('..') , os.path.pardir )) )"
   ]
  },
  {
   "cell_type": "code",
   "execution_count": null,
   "metadata": {},
   "outputs": [],
   "source": [
    "from collapsingFLAMEbit import *\n",
    "from genericFLAMEbit import *"
   ]
  },
  {
   "cell_type": "code",
   "execution_count": null,
   "metadata": {},
   "outputs": [],
   "source": [
    "def construct_sec_order(arr):\n",
    "    ''' an intermediate data generation function used \n",
    "        for generating second order information '''\n",
    "    \n",
    "    second_order_feature = []\n",
    "    num_cov_sec = len(arr[0])\n",
    "    for a in arr:\n",
    "        tmp = []\n",
    "        for i in range(num_cov_sec):\n",
    "            for j in range(i+1, num_cov_sec):\n",
    "                tmp.append( a[i] * a[j] )\n",
    "        second_order_feature.append(tmp)\n",
    "        \n",
    "    return np.array(second_order_feature)"
   ]
  },
  {
   "cell_type": "code",
   "execution_count": 4,
   "metadata": {
    "collapsed": true
   },
   "outputs": [],
   "source": [
    "def data_generation_hybrid(num_control, num_treated, num_cov, exponential = True):\n",
    "    \n",
    "    # a data generation function, not used here\n",
    "    \n",
    "    xc = np.random.binomial(1, 0.5, size=(num_control, num_cov))   # data for conum_treatedrol group\n",
    "    xt = np.random.binomial(1, 0.5, size=(num_treated, num_cov))   # data for treatmenum_treated group\n",
    "        \n",
    "    errors1 = np.random.normal(0, 0.05, size=num_control)    # some noise\n",
    "    errors2 = np.random.normal(0, 0.05, size=num_treated)    # some noise\n",
    "    \n",
    "    #dense_bs_sign = np.random.choice([-1,1], num_cov_dense)\n",
    "    if exponential:\n",
    "        dense_bs = [ 20.*((4./5)**(i+1)) for i in range(num_cov) ]\n",
    "    else:\n",
    "        dense_bs = [ (20./(i+1)) for i in range(num_cov) ]\n",
    "\n",
    "    yc = np.dot(xc, np.array(dense_bs)) #+ errors1     # y for control group \n",
    "\n",
    "    # y for treated group \n",
    "    treatment_eff_coef = np.random.normal( 1.5, 0.15, size=num_cov) #beta\n",
    "    treatment_effect = np.dot(xt, treatment_eff_coef) \n",
    "    \n",
    "    yt = np.dot(xt,np.array(dense_bs))+treatment_effect \n",
    "                                      # + errors2    \n",
    "        \n",
    "    df1 = pd.DataFrame(np.hstack([xc]), \n",
    "                       columns=range(num_cov))\n",
    "    df1['outcome'] = yc\n",
    "    df1['treated'] = 0\n",
    "\n",
    "    df2 = pd.DataFrame(np.hstack([xt]), \n",
    "                       columns=range(num_cov ) ) \n",
    "    df2['outcome'] = yt\n",
    "    df2['treated'] = 1\n",
    "\n",
    "    df = pd.concat([df1,df2])\n",
    "    df['matched'] = 0\n",
    "  \n",
    "    return df, dense_bs, treatment_eff_coef"
   ]
  },
  {
   "cell_type": "code",
   "execution_count": 11,
   "metadata": {
    "collapsed": true
   },
   "outputs": [],
   "source": [
    "#------- EXPERIMENT 1: N=11K, P=10 -----------------------------#"
   ]
  },
  {
   "cell_type": "code",
   "execution_count": 12,
   "metadata": {},
   "outputs": [],
   "source": [
    "# data generation, set exponential to be True or False for exponential decay and power-law decay respectively\n",
    "\n",
    "d = data_generation_hybrid(15000, 15000, 18, exponential=True)\n",
    "df = d[0] \n",
    "holdout,_,_ = data_generation_hybrid(15000, 15000, 18, exponential=True)\n"
   ]
  },
  {
   "cell_type": "code",
   "execution_count": 53,
   "metadata": {},
   "outputs": [
    {
     "name": "stdout",
     "output_type": "stream",
     "text": [
      "[0, 1, 2, 3, 4, 5, 6, 7, 8, 9, 10, 11, 12, 13, 14, 15, 16, 17]\n",
      "28209\n",
      "-0.867045567415\n",
      "[0, 1, 2, 3, 4, 5, 6, 7, 8, 9, 10, 11, 12, 13, 14, 15, 16]\n",
      "26773\n",
      "-1.82787583225\n",
      "[0, 1, 2, 3, 4, 5, 6, 7, 8, 9, 10, 11, 12, 13, 14, 15]\n",
      "24244\n",
      "-2.98771630696\n",
      "[0, 1, 2, 3, 4, 5, 6, 7, 8, 9, 10, 11, 12, 13, 14]\n",
      "20185\n",
      "reached threshold\n"
     ]
    }
   ],
   "source": [
    "res_gen = run_bit(df, holdout, range(18), [2]*18, threshold = 20385, tradeoff_param = 0.001)"
   ]
  },
  {
   "cell_type": "code",
   "execution_count": 52,
   "metadata": {},
   "outputs": [
    {
     "name": "stdout",
     "output_type": "stream",
     "text": [
      "26773\n",
      "25465\n",
      "24272\n",
      "23079\n",
      "22084\n",
      "21198\n",
      "20385\n",
      "reached threshold\n"
     ]
    }
   ],
   "source": [
    "res = run_mpbit(df, holdout, range(18), [2]*18, threshold =20385, tradeoff_param = 0.001)"
   ]
  },
  {
   "cell_type": "code",
   "execution_count": 17,
   "metadata": {
    "collapsed": true
   },
   "outputs": [],
   "source": [
    "#pickle.dump(d, open('412data', 'wb'))\n",
    "d[0].to_csv('412dataframe.csv')"
   ]
  },
  {
   "cell_type": "code",
   "execution_count": 19,
   "metadata": {
    "collapsed": true
   },
   "outputs": [],
   "source": [
    "def ground_truth( eff_coef, covs_ordered, num_covs_dense = 18, num_second_order = 0, second_order = True):\n",
    "    arr = np.array(list(itertools.product([0,1], repeat=num_covs_dense)))\n",
    "    effect = np.dot(arr, eff_coef)\n",
    "    if second_order:\n",
    "        second_effect = np.sum(construct_sec_order(arr[:,:num_second_order] ), axis=1)\n",
    "        effect = effect + second_effect\n",
    "    df = pd.DataFrame(arr, columns=covs_ordered)\n",
    "    df['effect'] = effect\n",
    "    return df\n",
    "\n"
   ]
  },
  {
   "cell_type": "code",
   "execution_count": 20,
   "metadata": {
    "collapsed": true
   },
   "outputs": [],
   "source": [
    "ground_truth = ground_truth(d[2], list(range(18)), num_covs_dense = 18, num_second_order = 0, second_order = False)\n",
    "\n"
   ]
  },
  {
   "cell_type": "code",
   "execution_count": 21,
   "metadata": {
    "collapsed": true
   },
   "outputs": [],
   "source": [
    "ground_truth.to_csv('412groundtruth.csv')"
   ]
  },
  {
   "cell_type": "code",
   "execution_count": 54,
   "metadata": {
    "collapsed": true
   },
   "outputs": [],
   "source": [
    "truth_list = []\n",
    "pred_list = []\n",
    "count = 0\n",
    "av_err_cate = []\n",
    "aux_size = []\n",
    "for r in res[1]:\n",
    "    count = count +1\n",
    "    tmp = pd.merge(r, ground_truth, on = list(set(range(18)) & set(r.columns) ), how = 'left')\n",
    "    truth_list = truth_list + list(tmp['effect_y'])\n",
    "    pred_list = pred_list + list(tmp['effect_x'])\n",
    "    aux_size = aux_size + list(tmp['size'])\n",
    "\n"
   ]
  },
  {
   "cell_type": "code",
   "execution_count": 55,
   "metadata": {
    "collapsed": true
   },
   "outputs": [],
   "source": [
    "# generate the lists of true and estimated cates for genFLAME\n",
    "\n",
    "truth_list_gen = []\n",
    "pred_list_gen = []\n",
    "\n",
    "aux_size_gen = []\n",
    "av_err_cate_gen = []\n",
    "for r_gen in res_gen[1]:\n",
    "    tmp_gen = pd.merge(r_gen, ground_truth, on = list(set(range(18)) & set(r_gen.columns) ), how = 'left')\n",
    "    truth_list_gen = truth_list_gen + list(tmp_gen['effect_y'])\n",
    "    pred_list_gen = pred_list_gen + list(tmp_gen['effect_x'])\n",
    "    aux_size_gen = aux_size_gen + list(tmp_gen['size'])\n",
    "\n"
   ]
  },
  {
   "cell_type": "code",
   "execution_count": null,
   "metadata": {
    "collapsed": true
   },
   "outputs": [],
   "source": []
  },
  {
   "cell_type": "code",
   "execution_count": 57,
   "metadata": {},
   "outputs": [],
   "source": [
    "# create a dataframe with the true and estimated cates : \n",
    "\n",
    "cateDF1 = pd.DataFrame()\n",
    "cateDF1['effect'] = pred_list\n",
    "cateDF1['cate'] = ['estimated']*len(pred_list)\n",
    "cateDF1['method'] = ['collapsing FLAME']*len(pred_list)\n",
    "\n",
    "\n",
    "cateDF2 = pd.DataFrame()\n",
    "cateDF2['effect'] = truth_list\n",
    "cateDF2['cate'] = ['true']*len(truth_list)\n",
    "cateDF2['method'] = ['collapsing FLAME']*len(truth_list)\n",
    "\n",
    "cateDF3 = pd.DataFrame()\n",
    "cateDF3['effect'] = pred_list_gen\n",
    "cateDF3['cate'] = ['estimated']*len(pred_list_gen)\n",
    "cateDF3['method'] = ['generic FLAME']*len(pred_list_gen)\n",
    "\n",
    "\n",
    "cateDF4 = pd.DataFrame()\n",
    "cateDF4['effect'] = truth_list_gen\n",
    "cateDF4['cate'] = ['true']*len(truth_list_gen)\n",
    "cateDF4['method'] = ['generic FLAME']*len(truth_list_gen)\n",
    "\n",
    "cate = pd.concat([cateDF1, cateDF2, cateDF3, cateDF4])\n",
    "cate_col = pd.concat([cateDF1, cateDF2])\n",
    "cate_gen = pd.concat([cateDF3, cateDF4])\n",
    "\n",
    "effect_col = pd.DataFrame()\n",
    "effect_col['pred'] = pred_list\n",
    "effect_col['true'] = truth_list\n",
    "effect_col['size'] = aux_size\n",
    "\n",
    "effect_col['method'] = ['collapsing FLAME']*len(truth_list)\n",
    "\n",
    "\n",
    "#effect_col.to_csv('effect.csv')\n",
    "\n",
    "effect_gen = pd.DataFrame()\n",
    "effect_gen['pred'] = pred_list_gen\n",
    "effect_gen['true'] = truth_list_gen\n",
    "effect_gen['method'] = ['generic FLAME']*len(truth_list_gen)\n",
    "effect_gen['size'] = aux_size_gen\n",
    "\n",
    "\n",
    "effect = pd.concat([effect_gen, effect_col])\n",
    "#effect_gen.to_csv('effect_gen.csv')\n",
    "\n",
    "cate_gen.to_csv('cate412gen_th1.csv')\n",
    "cate_col.to_csv('cate412col_th1.csv')\n",
    "\n",
    "cate.to_csv('cate412_th1.csv')\n",
    "\n",
    "effect_col.to_csv('effect412col_th1.csv')\n",
    "\n",
    "effect_gen.to_csv('effect412gen_th1.csv')\n",
    "\n",
    "effect.to_csv('effect412_th1.csv')\n"
   ]
  },
  {
   "cell_type": "code",
   "execution_count": null,
   "metadata": {
    "collapsed": true
   },
   "outputs": [],
   "source": [
    "#------- THRESHOLD2 -----------------------------#"
   ]
  },
  {
   "cell_type": "code",
   "execution_count": 30,
   "metadata": {},
   "outputs": [
    {
     "name": "stdout",
     "output_type": "stream",
     "text": [
      "[0, 1, 2, 3, 4, 5, 6, 7, 8, 9, 10, 11, 12, 13, 14, 15, 16, 17]\n",
      "28209\n",
      "-0.867045567415\n",
      "[0, 1, 2, 3, 4, 5, 6, 7, 8, 9, 10, 11, 12, 13, 14, 15, 16]\n",
      "26773\n",
      "-1.82787583225\n",
      "[0, 1, 2, 3, 4, 5, 6, 7, 8, 9, 10, 11, 12, 13, 14, 15]\n",
      "24244\n",
      "-2.98771630696\n",
      "[0, 1, 2, 3, 4, 5, 6, 7, 8, 9, 10, 11, 12, 13, 14]\n",
      "20185\n",
      "-4.42628085038\n",
      "[0, 1, 2, 3, 4, 5, 6, 7, 8, 9, 10, 11, 12, 13]\n",
      "15070\n",
      "reached threshold\n"
     ]
    }
   ],
   "source": [
    "res_gen1 = run_bit(df, holdout, range(18), [2]*18, threshold =15070, tradeoff_param = 0.001)\n"
   ]
  },
  {
   "cell_type": "code",
   "execution_count": 59,
   "metadata": {},
   "outputs": [
    {
     "name": "stdout",
     "output_type": "stream",
     "text": [
      "26773\n",
      "25465\n",
      "24272\n",
      "23079\n",
      "22084\n",
      "21198\n",
      "20385\n",
      "19664\n",
      "18947\n",
      "18370\n",
      "17791\n",
      "17253\n",
      "16761\n",
      "16220\n",
      "15730\n",
      "15303\n",
      "14958\n",
      "reached threshold\n"
     ]
    }
   ],
   "source": [
    "res1 = run_mpbit(df, holdout, range(18), [2]*18, threshold = 15070, tradeoff_param = 0.001)"
   ]
  },
  {
   "cell_type": "code",
   "execution_count": 33,
   "metadata": {
    "collapsed": true
   },
   "outputs": [],
   "source": [
    "truth_list1 = []\n",
    "pred_list1 = []\n",
    "count = 0\n",
    "av_err_cate = []\n",
    "aux_size1 = []\n",
    "for r in res1[1]:\n",
    "    count = count +1\n",
    "    tmp1 = pd.merge(r, ground_truth, on = list(set(range(18)) & set(r.columns) ), how = 'left')\n",
    "    truth_list1 = truth_list1 + list(tmp1['effect_y'])\n",
    "    pred_list1 = pred_list1 + list(tmp1['effect_x'])\n",
    "    aux_size1 = aux_size1 + list(tmp1['size'])\n",
    "\n",
    "\n",
    "truth_list_gen1 = []\n",
    "pred_list_gen1 = []\n",
    "\n",
    "aux_size_gen1 = []\n",
    "av_err_cate_gen1 = []\n",
    "for r_gen in res_gen1[1]:\n",
    "    tmp_gen1 = pd.merge(r_gen, ground_truth, on = list(set(range(18)) & set(r_gen.columns) ), how = 'left')\n",
    "    truth_list_gen1 = truth_list_gen1 + list(tmp_gen1['effect_y'])\n",
    "    pred_list_gen1 = pred_list_gen1 + list(tmp_gen1['effect_x'])\n",
    "    aux_size_gen1 = aux_size_gen1 + list(tmp_gen1['size'])\n",
    "\n",
    "\n"
   ]
  },
  {
   "cell_type": "code",
   "execution_count": 34,
   "metadata": {
    "collapsed": true
   },
   "outputs": [],
   "source": [
    "# create a dataframe with the true and estimated cates : \n",
    "\n",
    "cateDF11 = pd.DataFrame()\n",
    "cateDF11['effect'] = pred_list1\n",
    "cateDF11['cate'] = ['estimated']*len(pred_list1)\n",
    "cateDF11['method'] = ['collapsing FLAME']*len(pred_list1)\n",
    "\n",
    "\n",
    "cateDF21 = pd.DataFrame()\n",
    "cateDF21['effect'] = truth_list1\n",
    "cateDF21['cate'] = ['true']*len(truth_list1)\n",
    "cateDF21['method'] = ['collapsing FLAME']*len(truth_list1)\n",
    "\n",
    "cateDF31 = pd.DataFrame()\n",
    "cateDF31['effect'] = pred_list_gen1\n",
    "cateDF31['cate'] = ['estimated']*len(pred_list_gen1)\n",
    "cateDF31['method'] = ['generic FLAME']*len(pred_list_gen1)\n",
    "\n",
    "\n",
    "cateDF41 = pd.DataFrame()\n",
    "cateDF41['effect'] = truth_list_gen1\n",
    "cateDF41['cate'] = ['true']*len(truth_list_gen1)\n",
    "cateDF41['method'] = ['generic FLAME']*len(truth_list_gen1)\n",
    "\n",
    "cate1 = pd.concat([cateDF11, cateDF21, cateDF31, cateDF41])\n",
    "\n",
    "effect_col1 = pd.DataFrame()\n",
    "effect_col1['pred'] = pred_list1\n",
    "effect_col1['true'] = truth_list1\n",
    "effect_col1['size'] = aux_size1\n",
    "\n",
    "effect_col1['method'] = ['collapsing FLAME']*len(truth_list1)\n",
    "\n",
    "\n",
    "#effect_col.to_csv('effect.csv')\n",
    "\n",
    "effect_gen1 = pd.DataFrame()\n",
    "effect_gen1['pred'] = pred_list_gen1\n",
    "effect_gen1['true'] = truth_list_gen1\n",
    "effect_gen1['method'] = ['generic FLAME']*len(truth_list_gen1)\n",
    "effect_gen1['size'] = aux_size_gen1\n",
    "\n",
    "\n",
    "effect1 = pd.concat([effect_gen1, effect_col1])\n",
    "#effect_gen.to_csv('effect_gen.csv')\n",
    "\n",
    "cate_col1 = pd.concat([cateDF11, cateDF21])\n",
    "cate_gen1 = pd.concat([cateDF31, cateDF41])\n",
    "\n",
    "cate_gen1.to_csv('cate412gen_th2.csv')\n",
    "cate_col1.to_csv('cate412col_th2.csv')\n",
    "\n",
    "cate1.to_csv('cate412_th2.csv')\n",
    "\n",
    "effect_col1.to_csv('effect412col_th2.csv')\n",
    "\n",
    "effect_gen1.to_csv('effect412gen_th2.csv')\n",
    "\n",
    "effect1.to_csv('effect412_th2.csv')"
   ]
  },
  {
   "cell_type": "code",
   "execution_count": null,
   "metadata": {
    "collapsed": true
   },
   "outputs": [],
   "source": []
  },
  {
   "cell_type": "code",
   "execution_count": null,
   "metadata": {
    "collapsed": true
   },
   "outputs": [],
   "source": [
    "#------- THRESHOLD3-----------------------------#"
   ]
  },
  {
   "cell_type": "code",
   "execution_count": 39,
   "metadata": {},
   "outputs": [
    {
     "name": "stdout",
     "output_type": "stream",
     "text": [
      "[0, 1, 2, 3, 4, 5, 6, 7, 8, 9, 10, 11, 12, 13, 14, 15, 16, 17]\n",
      "28209\n",
      "-0.867045567415\n",
      "[0, 1, 2, 3, 4, 5, 6, 7, 8, 9, 10, 11, 12, 13, 14, 15, 16]\n",
      "26773\n",
      "-1.82787583225\n",
      "[0, 1, 2, 3, 4, 5, 6, 7, 8, 9, 10, 11, 12, 13, 14, 15]\n",
      "24244\n",
      "-2.98771630696\n",
      "[0, 1, 2, 3, 4, 5, 6, 7, 8, 9, 10, 11, 12, 13, 14]\n",
      "20185\n",
      "-4.42628085038\n",
      "[0, 1, 2, 3, 4, 5, 6, 7, 8, 9, 10, 11, 12, 13]\n",
      "15070\n",
      "-5.87690400078\n",
      "[0, 1, 2, 3, 4, 5, 6, 7, 8, 9, 10, 11, 12]\n",
      "10459\n",
      "reached threshold\n"
     ]
    }
   ],
   "source": [
    "res_gen2 = run_bit(df, holdout, range(18), [2]*18, threshold =10459, tradeoff_param = 0.001)\n",
    "\n"
   ]
  },
  {
   "cell_type": "code",
   "execution_count": 41,
   "metadata": {},
   "outputs": [
    {
     "name": "stdout",
     "output_type": "stream",
     "text": [
      "26773\n",
      "25465\n",
      "24272\n",
      "23079\n",
      "22084\n",
      "21198\n",
      "20385\n",
      "19664\n",
      "18947\n",
      "18370\n",
      "17791\n",
      "17253\n",
      "16761\n",
      "16220\n",
      "15730\n",
      "15303\n",
      "14958\n",
      "14566\n",
      "14179\n",
      "13811\n",
      "13451\n",
      "13192\n",
      "12907\n",
      "12626\n",
      "12372\n",
      "12048\n",
      "11797\n",
      "11556\n",
      "11349\n",
      "11161\n",
      "10977\n",
      "10758\n",
      "10550\n",
      "10367\n",
      "reached threshold\n"
     ]
    }
   ],
   "source": [
    "\n",
    "res2 = run_mpbit(df, holdout, range(18), [2]*18, threshold = 10459, tradeoff_param = 0.001)\n"
   ]
  },
  {
   "cell_type": "code",
   "execution_count": 42,
   "metadata": {
    "collapsed": true
   },
   "outputs": [],
   "source": [
    "truth_list2 = []\n",
    "pred_list2 = []\n",
    "count = 0\n",
    "av_err_cate = []\n",
    "aux_size2 = []\n",
    "for r in res2[1]:\n",
    "    count = count +1\n",
    "    tmp2 = pd.merge(r, ground_truth, on = list(set(range(18)) & set(r.columns) ), how = 'left')\n",
    "    truth_list2 = truth_list2 + list(tmp2['effect_y'])\n",
    "    pred_list2 = pred_list2 + list(tmp2['effect_x'])\n",
    "    aux_size2 = aux_size2 + list(tmp2['size'])\n",
    "\n",
    "\n",
    "truth_list_gen2 = []\n",
    "pred_list_gen2 = []\n",
    "\n",
    "aux_size_gen2 = []\n",
    "for r_gen in res_gen2[1]:\n",
    "    tmp_gen2 = pd.merge(r_gen, ground_truth, on = list(set(range(18)) & set(r_gen.columns) ), how = 'left')\n",
    "    truth_list_gen2 = truth_list_gen2 + list(tmp_gen2['effect_y'])\n",
    "    pred_list_gen2 = pred_list_gen2 + list(tmp_gen2['effect_x'])\n",
    "    aux_size_gen2 = aux_size_gen2 + list(tmp_gen2['size'])\n"
   ]
  },
  {
   "cell_type": "code",
   "execution_count": 43,
   "metadata": {
    "collapsed": true
   },
   "outputs": [],
   "source": [
    "\n",
    "# create a dataframe with the true and estimated cates : \n",
    "\n",
    "cateDF12 = pd.DataFrame()\n",
    "cateDF12['effect'] = pred_list2\n",
    "cateDF12['cate'] = ['estimated']*len(pred_list2)\n",
    "cateDF12['method'] = ['collapsing FLAME']*len(pred_list2)\n",
    "\n",
    "\n",
    "cateDF22 = pd.DataFrame()\n",
    "cateDF22['effect'] = truth_list2\n",
    "cateDF22['cate'] = ['true']*len(truth_list2)\n",
    "cateDF22['method'] = ['collapsing FLAME']*len(truth_list2)\n",
    "\n",
    "cateDF32 = pd.DataFrame()\n",
    "cateDF32['effect'] = pred_list_gen2\n",
    "cateDF32['cate'] = ['estimated']*len(pred_list_gen2)\n",
    "cateDF32['method'] = ['generic FLAME']*len(pred_list_gen2)\n",
    "\n",
    "\n",
    "cateDF42 = pd.DataFrame()\n",
    "cateDF42['effect'] = truth_list_gen2\n",
    "cateDF42['cate'] = ['true']*len(truth_list_gen2)\n",
    "cateDF42['method'] = ['generic FLAME']*len(truth_list_gen2)\n",
    "\n",
    "cate2 = pd.concat([cateDF12, cateDF22, cateDF32, cateDF42])\n",
    "\n",
    "effect_col2 = pd.DataFrame()\n",
    "effect_col2['pred'] = pred_list2\n",
    "effect_col2['true'] = truth_list2\n",
    "effect_col2['size'] = aux_size2\n",
    "\n",
    "effect_col2['method'] = ['collapsing FLAME']*len(truth_list2)\n",
    "\n",
    "\n",
    "#effect_col.to_csv('effect.csv')\n",
    "\n",
    "effect_gen2 = pd.DataFrame()\n",
    "effect_gen2['pred'] = pred_list_gen2\n",
    "effect_gen2['true'] = truth_list_gen2\n",
    "effect_gen2['method'] = ['generic FLAME']*len(truth_list_gen2)\n",
    "effect_gen2['size'] = aux_size_gen2\n",
    "\n",
    "\n",
    "effect2 = pd.concat([effect_gen2, effect_col2])\n",
    "\n",
    "cate_col2 = pd.concat([cateDF12, cateDF22])\n",
    "cate_gen2 = pd.concat([cateDF32, cateDF42])\n",
    "\n",
    "cate_gen2.to_csv('cate412gen_th3.csv')\n",
    "cate_col2.to_csv('cate412col_th3.csv')\n",
    "\n",
    "cate2.to_csv('cate412_th3.csv')\n",
    "\n",
    "effect_col2.to_csv('effect412col_th3.csv')\n",
    "\n",
    "effect_gen2.to_csv('effect412gen_th3.csv')\n",
    "\n",
    "effect2.to_csv('effect412_th3.csv')"
   ]
  },
  {
   "cell_type": "code",
   "execution_count": null,
   "metadata": {
    "collapsed": true
   },
   "outputs": [],
   "source": [
    "#add plots here\n"
   ]
  }
 ],
 "metadata": {
  "anaconda-cloud": {},
  "kernelspec": {
   "display_name": "Python [default]",
   "language": "python",
   "name": "python2"
  },
  "language_info": {
   "codemirror_mode": {
    "name": "ipython",
    "version": 2
   },
   "file_extension": ".py",
   "mimetype": "text/x-python",
   "name": "python",
   "nbconvert_exporter": "python",
   "pygments_lexer": "ipython2",
   "version": "2.7.9"
  }
 },
 "nbformat": 4,
 "nbformat_minor": 2
}
